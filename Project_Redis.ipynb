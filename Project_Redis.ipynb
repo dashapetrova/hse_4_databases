{
 "cells": [
  {
   "cell_type": "code",
   "execution_count": 75,
   "metadata": {},
   "outputs": [],
   "source": [
    "import random\n",
    "import redis"
   ]
  },
  {
   "cell_type": "code",
   "execution_count": 76,
   "metadata": {},
   "outputs": [],
   "source": [
    "random.seed(444)"
   ]
  },
  {
   "cell_type": "code",
   "execution_count": 77,
   "metadata": {},
   "outputs": [],
   "source": [
    "hats = {f\"hat:{random.getrandbits(32)}\": i for i in (\n",
    "    {\n",
    "        \"color\": \"black\",\n",
    "        \"price\": 49.99,\n",
    "        \"style\": \"fitted\",\n",
    "        \"quantity\": 1000,\n",
    "        \"npurchased\": 0,\n",
    "    },\n",
    "    {\n",
    "        \"color\": \"maroon\",\n",
    "        \"price\": 59.99,\n",
    "        \"style\": \"hipster\",\n",
    "        \"quantity\": 500,\n",
    "        \"npurchased\": 0,\n",
    "    },\n",
    "    {\n",
    "        \"color\": \"green\",\n",
    "        \"price\": 99.99,\n",
    "        \"style\": \"baseball\",\n",
    "        \"quantity\": 200,\n",
    "        \"npurchased\": 0,\n",
    "    })\n",
    "          }"
   ]
  },
  {
   "cell_type": "code",
   "execution_count": 78,
   "metadata": {},
   "outputs": [],
   "source": [
    "tshirts = {f\"t-shirt:{random.getrandbits(32)}\": i for i in (\n",
    "    {\n",
    "        \"color\": \"black\",\n",
    "        \"price\": 19.99,\n",
    "        \"style\": \"fitted\",\n",
    "        \"quantity\": 2000,\n",
    "        \"npurchased\": 0,\n",
    "    },\n",
    "    {\n",
    "        \"color\": \"yellow\",\n",
    "        \"price\": 29.99,\n",
    "        \"style\": \"hipster\",\n",
    "        \"quantity\": 450,\n",
    "        \"npurchased\": 0,\n",
    "    },\n",
    "    {\n",
    "        \"color\": \"green\",\n",
    "        \"price\": 39.99,\n",
    "        \"style\": \"large\",\n",
    "        \"quantity\": 400,\n",
    "        \"npurchased\": 0,\n",
    "    })}"
   ]
  },
  {
   "cell_type": "code",
   "execution_count": 79,
   "metadata": {},
   "outputs": [],
   "source": [
    "jeans = {f\"jeans:{random.getrandbits(32)}\": i for i in (\n",
    "    {\n",
    "        \"color\": \"black\",\n",
    "        \"price\": 59.99,\n",
    "        \"style\": \"fitted\",\n",
    "        \"quantity\": 3000,\n",
    "        \"npurchased\": 0,\n",
    "    },\n",
    "    {\n",
    "        \"color\": \"bleu\",\n",
    "        \"price\": 69.99,\n",
    "        \"style\": \"slim\",\n",
    "        \"quantity\": 400,\n",
    "        \"npurchased\": 0,\n",
    "    },\n",
    "    {\n",
    "        \"color\": \"dark blue\",\n",
    "        \"price\": 89.99,\n",
    "        \"style\": \"straight\",\n",
    "        \"quantity\": 600,\n",
    "        \"npurchased\": 0,\n",
    "    })}"
   ]
  },
  {
   "cell_type": "code",
   "execution_count": 80,
   "metadata": {},
   "outputs": [],
   "source": [
    "catalog = {}\n",
    "for i in [hats, tshirts, jeans]:\n",
    "    for j in i.items():\n",
    "        catalog[j[0]] = j[1]"
   ]
  },
  {
   "cell_type": "code",
   "execution_count": 81,
   "metadata": {},
   "outputs": [],
   "source": [
    "#r = redis.Redis(host='localhost', port=8888, db=1)\n",
    "r = redis.Redis(db=1)"
   ]
  },
  {
   "cell_type": "code",
   "execution_count": 82,
   "metadata": {},
   "outputs": [
    {
     "data": {
      "text/plain": [
       "True"
      ]
     },
     "execution_count": 82,
     "metadata": {},
     "output_type": "execute_result"
    }
   ],
   "source": [
    "r.flushdb()"
   ]
  },
  {
   "cell_type": "code",
   "execution_count": 83,
   "metadata": {},
   "outputs": [],
   "source": [
    "with r.pipeline() as pipe:\n",
    "    for _id, i in catalog.items():\n",
    "        pipe.hmset(_id, i)\n",
    "    pipe.execute()"
   ]
  },
  {
   "cell_type": "code",
   "execution_count": 84,
   "metadata": {},
   "outputs": [],
   "source": [
    "#r.bgsave()"
   ]
  },
  {
   "cell_type": "code",
   "execution_count": 85,
   "metadata": {},
   "outputs": [],
   "source": [
    "def get_updated_catalog():\n",
    "    catalog = {}\n",
    "    for key in r.keys():\n",
    "        catalog[key] = get_item_info(key)\n",
    "    return catalog"
   ]
  },
  {
   "cell_type": "code",
   "execution_count": 86,
   "metadata": {},
   "outputs": [],
   "source": [
    "import re\n",
    "\n",
    "def clean(el):\n",
    "    el_clean = re.findall(\"'.*'\", el)\n",
    "    el_clean = re.sub(\"'\", '', el_clean[0])\n",
    "    return el_clean\n",
    "\n",
    "def clean_results(res):\n",
    "    new_res = {}\n",
    "    for i in res.items():\n",
    "        field = str(i[0])\n",
    "        value = str(i[1])\n",
    "        field_clean = clean(field)\n",
    "        value_clean = clean(value)\n",
    "        new_res[field_clean] = value_clean\n",
    "    return new_res"
   ]
  },
  {
   "cell_type": "code",
   "execution_count": 87,
   "metadata": {},
   "outputs": [],
   "source": [
    "def get_item_info(item, fields = 'All'):\n",
    "    if fields == 'All':\n",
    "        result = r.hgetall(item)\n",
    "    #else:\n",
    "    return clean_results(result)"
   ]
  },
  {
   "cell_type": "code",
   "execution_count": 88,
   "metadata": {},
   "outputs": [],
   "source": [
    "def update_item_info(item, field, new_value=None, func = 'add'):\n",
    "    if func == 'add':\n",
    "        r.hset(item, field, new_value)\n",
    "    else:\n",
    "        r.hdel(item, field)"
   ]
  },
  {
   "cell_type": "code",
   "execution_count": 89,
   "metadata": {},
   "outputs": [
    {
     "data": {
      "text/plain": [
       "b'jeans:1296359138'"
      ]
     },
     "execution_count": 89,
     "metadata": {},
     "output_type": "execute_result"
    }
   ],
   "source": [
    "example = r.keys()[0] \n",
    "example"
   ]
  },
  {
   "cell_type": "code",
   "execution_count": 90,
   "metadata": {},
   "outputs": [],
   "source": [
    "update_item_info(example, 'color', 'purple')"
   ]
  },
  {
   "cell_type": "code",
   "execution_count": 91,
   "metadata": {},
   "outputs": [
    {
     "name": "stdout",
     "output_type": "stream",
     "text": [
      "{b'color': b'purple', b'price': b'69.99', b'style': b'slim', b'quantity': b'400', b'npurchased': b'0'}\n"
     ]
    }
   ],
   "source": [
    "print(r.hgetall(example))"
   ]
  },
  {
   "cell_type": "code",
   "execution_count": 92,
   "metadata": {},
   "outputs": [],
   "source": [
    "update_item_info(example, 'size', 'oversize')"
   ]
  },
  {
   "cell_type": "code",
   "execution_count": 93,
   "metadata": {},
   "outputs": [
    {
     "name": "stdout",
     "output_type": "stream",
     "text": [
      "{b'color': b'purple', b'price': b'69.99', b'style': b'slim', b'quantity': b'400', b'npurchased': b'0', b'size': b'oversize'}\n"
     ]
    }
   ],
   "source": [
    "print(r.hgetall(example))"
   ]
  },
  {
   "cell_type": "code",
   "execution_count": 94,
   "metadata": {},
   "outputs": [],
   "source": [
    "update_item_info(example, 'size', func = 'del')"
   ]
  },
  {
   "cell_type": "code",
   "execution_count": 95,
   "metadata": {},
   "outputs": [
    {
     "name": "stdout",
     "output_type": "stream",
     "text": [
      "{b'color': b'purple', b'price': b'69.99', b'style': b'slim', b'quantity': b'400', b'npurchased': b'0'}\n"
     ]
    }
   ],
   "source": [
    "print(r.hgetall(example))"
   ]
  },
  {
   "cell_type": "code",
   "execution_count": 96,
   "metadata": {},
   "outputs": [],
   "source": [
    "def add_item(d):\n",
    "    with r.pipeline() as pipe:\n",
    "        for _id, i in d.items():\n",
    "            pipe.hmset(_id, i)\n",
    "        pipe.execute()"
   ]
  },
  {
   "cell_type": "code",
   "execution_count": 97,
   "metadata": {},
   "outputs": [],
   "source": [
    "new_item = {'hat:1326692455': {'color': 'green',\n",
    "  'price': 50.99,\n",
    "  'style': 'onesize',\n",
    "  'quantity': 10,\n",
    "  'npurchased': 2}}"
   ]
  },
  {
   "cell_type": "code",
   "execution_count": 98,
   "metadata": {},
   "outputs": [
    {
     "data": {
      "text/plain": [
       "9"
      ]
     },
     "execution_count": 98,
     "metadata": {},
     "output_type": "execute_result"
    }
   ],
   "source": [
    "len(r.keys())"
   ]
  },
  {
   "cell_type": "code",
   "execution_count": 99,
   "metadata": {},
   "outputs": [],
   "source": [
    "add_item(new_item)"
   ]
  },
  {
   "cell_type": "code",
   "execution_count": 100,
   "metadata": {},
   "outputs": [
    {
     "data": {
      "text/plain": [
       "10"
      ]
     },
     "execution_count": 100,
     "metadata": {},
     "output_type": "execute_result"
    }
   ],
   "source": [
    "len(r.keys())"
   ]
  },
  {
   "cell_type": "code",
   "execution_count": 101,
   "metadata": {},
   "outputs": [],
   "source": [
    "def get_keys(item_type):\n",
    "    di = {}\n",
    "    di[item_type] = random.getrandbits(32)\n",
    "    for k,v in di.items():\n",
    "        key_val_pair = str(k)+\":\"+str(v)\n",
    "    return key_val_pair"
   ]
  },
  {
   "cell_type": "code",
   "execution_count": 102,
   "metadata": {},
   "outputs": [
    {
     "data": {
      "text/plain": [
       "'jeans:2207557033'"
      ]
     },
     "execution_count": 102,
     "metadata": {},
     "output_type": "execute_result"
    }
   ],
   "source": [
    "get_keys('jeans')"
   ]
  },
  {
   "cell_type": "markdown",
   "metadata": {},
   "source": [
    "Функция ниже уменьшает количество товара и увеличивает число преобретений"
   ]
  },
  {
   "cell_type": "code",
   "execution_count": 103,
   "metadata": {},
   "outputs": [],
   "source": [
    "import logging\n",
    "\n",
    "logging.basicConfig()\n",
    "class OutOfStockError(Exception):\n",
    "    \"\"\"Используется, когда на PyHats заканчивается самый популярный товар\"\"\"\n",
    "    \n",
    "def buyitem(r: redis.Redis, itemid: int) -> None:\n",
    "    with r.pipeline() as pipe:\n",
    "        error_count = 0\n",
    "        while True:\n",
    "            try:\n",
    "                # Получение доступного инвентаря, поиск изменений\n",
    "                # связанных с ID объекта перед транзакцией\n",
    "                pipe.watch(itemid)\n",
    "                nleft: bytes = r.hget(itemid, \"quantity\")\n",
    "                if nleft > b\"0\": #проверяет, не пустой ли\n",
    "                    pipe.multi()\n",
    "                    pipe.hincrby(itemid, \"quantity\", -1)\n",
    "                    pipe.hincrby(itemid, \"npurchased\", 1)\n",
    "                    pipe.execute()\n",
    "                    break\n",
    "                else:\n",
    "                    # Остановка поиска ID объекта\n",
    "                    pipe.unwatch()\n",
    "                    raise OutOfStockError(\n",
    "                        f\"Sorry, {itemid} is out of stock!\"\n",
    "                    )\n",
    "            except redis.WatchError:\n",
    "                # Регистрация общего количества ошибок данного пользователя,\n",
    "                # с последующей попыткой повторения процесса WATCH/HGET/MULTI/EXEC\n",
    "                error_count += 1\n",
    "                logging.warning(\n",
    "                    \"WatchError #%d: %s; retrying\",\n",
    "                    error_count, itemid\n",
    "                )\n",
    "    return None"
   ]
  },
  {
   "cell_type": "code",
   "execution_count": 104,
   "metadata": {},
   "outputs": [
    {
     "data": {
      "text/plain": [
       "[b'400', b'0']"
      ]
     },
     "execution_count": 104,
     "metadata": {},
     "output_type": "execute_result"
    }
   ],
   "source": [
    "r.hmget(example, \"quantity\", \"npurchased\")"
   ]
  },
  {
   "cell_type": "code",
   "execution_count": 105,
   "metadata": {},
   "outputs": [],
   "source": [
    "def buy_stuff(example, num):\n",
    "    max_num = int(r.hmget(example, \"quantity\")[0])\n",
    "    if num < max_num:\n",
    "        for i in range(num):\n",
    "            buyitem(r, example)\n",
    "        return 'Thanks for purchasing!'\n",
    "    else:\n",
    "        return f'Sorry, there is only {max_num} of this item left'"
   ]
  },
  {
   "cell_type": "code",
   "execution_count": 124,
   "metadata": {},
   "outputs": [
    {
     "data": {
      "text/plain": [
       "'Thanks for purchasing!'"
      ]
     },
     "execution_count": 124,
     "metadata": {},
     "output_type": "execute_result"
    }
   ],
   "source": [
    "buy_stuff(example, 10)"
   ]
  },
  {
   "cell_type": "code",
   "execution_count": 107,
   "metadata": {},
   "outputs": [
    {
     "data": {
      "text/plain": [
       "[b'390', b'10']"
      ]
     },
     "execution_count": 107,
     "metadata": {},
     "output_type": "execute_result"
    }
   ],
   "source": [
    "r.hmget(example, \"quantity\", \"npurchased\")"
   ]
  },
  {
   "cell_type": "code",
   "execution_count": 108,
   "metadata": {},
   "outputs": [
    {
     "data": {
      "text/plain": [
       "'Sorry, there is only 390 of this item left'"
      ]
     },
     "execution_count": 108,
     "metadata": {},
     "output_type": "execute_result"
    }
   ],
   "source": [
    "buy_stuff(example, 400)"
   ]
  },
  {
   "cell_type": "code",
   "execution_count": 109,
   "metadata": {},
   "outputs": [],
   "source": [
    "def delete_item(item):\n",
    "    r.delete(item)"
   ]
  },
  {
   "cell_type": "code",
   "execution_count": 110,
   "metadata": {},
   "outputs": [],
   "source": [
    "import random\n",
    "\n",
    "nouns = ['Feeling', 'Heat', 'Light', 'Move', 'Summer', 'Touch', 'Love', 'Spring', 'Winter', 'Sun', 'Smile', 'Time', 'Sound On', 'Be Unique', 'Work Hard', 'Holiday', 'School Day', 'Strange Bird']"
   ]
  },
  {
   "cell_type": "code",
   "execution_count": 111,
   "metadata": {},
   "outputs": [],
   "source": [
    "def get_name(key, custom_name = None):\n",
    "    if custom_name == None:\n",
    "        s = str(key).split(':')[0].title() +\" \"+ \"«\" + random.choice(nouns) + \"»\"\n",
    "        s = s[2:]\n",
    "    else:\n",
    "        s = str(key)[2:].split(':')[0].title() +\" \"+ \"«\" + str(custom_name) + \"»\"\n",
    "    return s"
   ]
  },
  {
   "cell_type": "code",
   "execution_count": 112,
   "metadata": {},
   "outputs": [],
   "source": [
    "def give_me_name(d, key, custom_name = None):\n",
    "    param = 0\n",
    "    while param == 0:\n",
    "        if custom_name == None:\n",
    "            name = get_name(key)\n",
    "        else:\n",
    "            name = get_name(key, custom_name)\n",
    "        threshold = 0\n",
    "        for k, value in d.items():\n",
    "            if value != name:\n",
    "                threshold += 1\n",
    "        if threshold == len(d.keys()):\n",
    "            param = 1\n",
    "    return name        "
   ]
  },
  {
   "cell_type": "code",
   "execution_count": 113,
   "metadata": {},
   "outputs": [],
   "source": [
    "d = {}\n",
    "for key in r.keys():\n",
    "    d[key] = give_me_name(d, key)"
   ]
  },
  {
   "cell_type": "code",
   "execution_count": 114,
   "metadata": {},
   "outputs": [
    {
     "data": {
      "text/plain": [
       "{b'jeans:1296359138': 'Jeans «Work Hard»',\n",
       " b't-shirt:1327727452': 'T-Shirt «Strange Bird»',\n",
       " b'hat:56854717': 'Hat «Sun»',\n",
       " b'hat:1236154736': 'Hat «Holiday»',\n",
       " b'jeans:3700028109': 'Jeans «Light»',\n",
       " b'hat:1326692455': 'Hat «Be Unique»',\n",
       " b't-shirt:2080643381': 'T-Shirt «Love»',\n",
       " b'hat:1326692461': 'Hat «Feeling»',\n",
       " b't-shirt:1186298464': 'T-Shirt «Move»',\n",
       " b'jeans:3189613171': 'Jeans «Feeling»'}"
      ]
     },
     "execution_count": 114,
     "metadata": {},
     "output_type": "execute_result"
    }
   ],
   "source": [
    "d"
   ]
  },
  {
   "cell_type": "code",
   "execution_count": 115,
   "metadata": {},
   "outputs": [],
   "source": [
    "def update_d(custom_name = None):\n",
    "    if custom_name == None:\n",
    "        for key in r.keys():\n",
    "            if key not in d.keys():\n",
    "                d[key] = give_me_name(d, key) #add new keys\n",
    "    else:\n",
    "        for key in r.keys():\n",
    "            if key not in d.keys():\n",
    "                d[key] = give_me_name(d, key, custom_name) #add new keys with cn\n",
    "            \n",
    "    for key in list(d.keys()):\n",
    "        if key not in r.keys():\n",
    "            del d[key] #delete keys of deleted items"
   ]
  },
  {
   "cell_type": "code",
   "execution_count": 116,
   "metadata": {},
   "outputs": [],
   "source": [
    "def get_key(d, value):\n",
    "    for k, v in d.items():\n",
    "        if v == value:\n",
    "            return k"
   ]
  },
  {
   "cell_type": "code",
   "execution_count": 117,
   "metadata": {},
   "outputs": [],
   "source": [
    "def get_types():\n",
    "    types = []\n",
    "    for key in r.keys():\n",
    "        s = str(key).split(':')[0].title()\n",
    "        types.append(s[2:])\n",
    "    return set(types)"
   ]
  },
  {
   "cell_type": "code",
   "execution_count": 118,
   "metadata": {},
   "outputs": [
    {
     "data": {
      "text/plain": [
       "{'Hat', 'Jeans', 'T-Shirt'}"
      ]
     },
     "execution_count": 118,
     "metadata": {},
     "output_type": "execute_result"
    }
   ],
   "source": [
    "get_types()"
   ]
  },
  {
   "cell_type": "code",
   "execution_count": 119,
   "metadata": {},
   "outputs": [],
   "source": [
    "def clean_mas(mas):\n",
    "    mas = str(mas)\n",
    "    str_len = len(mas)\n",
    "    mas = mas[1:str_len-1]\n",
    "    return mas.replace(\"'\", \"\")"
   ]
  },
  {
   "cell_type": "code",
   "execution_count": 120,
   "metadata": {},
   "outputs": [
    {
     "data": {
      "text/plain": [
       "'T-Shirt, Jeans, Hat'"
      ]
     },
     "execution_count": 120,
     "metadata": {},
     "output_type": "execute_result"
    }
   ],
   "source": [
    "clean_mas(get_types())"
   ]
  },
  {
   "cell_type": "code",
   "execution_count": 121,
   "metadata": {},
   "outputs": [],
   "source": [
    "import re\n",
    "import matplotlib.pyplot as plt\n",
    "import numpy as np"
   ]
  },
  {
   "cell_type": "code",
   "execution_count": 122,
   "metadata": {},
   "outputs": [],
   "source": [
    "def get_plot():\n",
    "    npurchased = {}\n",
    "    for i in r.keys():\n",
    "        reg = re.search(r'b\\'(.*?):', str(i))\n",
    "        reg1 = re.search(r'\\d', str(r.hmget(i, \"npurchased\")))\n",
    "        if reg1 is not None:\n",
    "            if reg.group(1) not in npurchased.keys():\n",
    "                npurchased[reg.group(1)] = [reg1.group()]\n",
    "            else:\n",
    "                npurchased[reg.group(1)].extend(reg1.group())\n",
    "\n",
    "    for keys in npurchased:\n",
    "        summ = 0\n",
    "        for i in npurchased[keys]:\n",
    "            num = int(i)\n",
    "            summ += num\n",
    "            npurchased[keys] = summ\n",
    "\n",
    "    lists = sorted(npurchased.items()) # sorted by key, return a list of tuples\n",
    "\n",
    "    x, y = zip(*lists) # unpack a list of pairs into two tuples\n",
    "\n",
    "    plt.plot(x, y, linewidth=5)\n",
    "    plt.ylim(0)\n",
    "    #plt.yaxis.set_major_locator(MaxNLocator(integer=True))\n",
    "\n",
    "    plt.title('The purchase graph')\n",
    "\n",
    "    plt.savefig('static/plot.png')"
   ]
  },
  {
   "cell_type": "code",
   "execution_count": 125,
   "metadata": {},
   "outputs": [
    {
     "data": {
      "image/png": "[encoded data removed]",
      "text/plain": [
       "<Figure size 432x288 with 1 Axes>"
      ]
     },
     "metadata": {
      "needs_background": "light"
     },
     "output_type": "display_data"
    }
   ],
   "source": [
    "get_plot()"
   ]
  },
  {
   "cell_type": "markdown",
   "metadata": {},
   "source": [
    "FLASK"
   ]
  },
  {
   "cell_type": "code",
   "execution_count": 126,
   "metadata": {},
   "outputs": [],
   "source": [
    "from flask import Flask\n",
    "from flask import render_template, request\n",
    "import json\n",
    "import random"
   ]
  },
  {
   "cell_type": "code",
   "execution_count": 129,
   "metadata": {},
   "outputs": [
    {
     "name": "stdout",
     "output_type": "stream",
     "text": [
      " * Serving Flask app \"__main__\" (lazy loading)\n",
      " * Environment: production\n",
      "   WARNING: This is a development server. Do not use it in a production deployment.\n",
      "   Use a production WSGI server instead.\n",
      " * Debug mode: off\n"
     ]
    },
    {
     "name": "stderr",
     "output_type": "stream",
     "text": [
      "INFO:werkzeug: * Running on http://127.0.0.1:5000/ (Press CTRL+C to quit)\n",
      "INFO:werkzeug:127.0.0.1 - - [05/Apr/2020 14:15:43] \"\u001b[37mGET / HTTP/1.1\u001b[0m\" 200 -\n",
      "INFO:werkzeug:127.0.0.1 - - [05/Apr/2020 14:15:43] \"\u001b[33mGET /main.css HTTP/1.1\u001b[0m\" 404 -\n",
      "INFO:werkzeug:127.0.0.1 - - [05/Apr/2020 14:15:45] \"\u001b[37mGET /buy_page HTTP/1.1\u001b[0m\" 200 -\n",
      "INFO:werkzeug:127.0.0.1 - - [05/Apr/2020 14:15:45] \"\u001b[33mGET /main.css HTTP/1.1\u001b[0m\" 404 -\n",
      "INFO:werkzeug:127.0.0.1 - - [05/Apr/2020 14:15:52] \"\u001b[37mGET /results?chose=T-Shirt+«Move»&quantity=10 HTTP/1.1\u001b[0m\" 200 -\n",
      "INFO:werkzeug:127.0.0.1 - - [05/Apr/2020 14:15:52] \"\u001b[33mGET /main.css HTTP/1.1\u001b[0m\" 404 -\n",
      "INFO:werkzeug:127.0.0.1 - - [05/Apr/2020 14:15:54] \"\u001b[37mGET / HTTP/1.1\u001b[0m\" 200 -\n",
      "INFO:werkzeug:127.0.0.1 - - [05/Apr/2020 14:15:54] \"\u001b[33mGET /main.css HTTP/1.1\u001b[0m\" 404 -\n",
      "INFO:werkzeug:127.0.0.1 - - [05/Apr/2020 14:15:55] \"\u001b[37mGET /buy_page HTTP/1.1\u001b[0m\" 200 -\n",
      "INFO:werkzeug:127.0.0.1 - - [05/Apr/2020 14:15:55] \"\u001b[33mGET /main.css HTTP/1.1\u001b[0m\" 404 -\n",
      "INFO:werkzeug:127.0.0.1 - - [05/Apr/2020 14:16:06] \"\u001b[37mGET /results?chose=Jeans+«Feeling»&quantity=3 HTTP/1.1\u001b[0m\" 200 -\n",
      "INFO:werkzeug:127.0.0.1 - - [05/Apr/2020 14:16:06] \"\u001b[33mGET /main.css HTTP/1.1\u001b[0m\" 404 -\n",
      "INFO:werkzeug:127.0.0.1 - - [05/Apr/2020 14:16:10] \"\u001b[37mGET /stats HTTP/1.1\u001b[0m\" 200 -\n",
      "INFO:werkzeug:127.0.0.1 - - [05/Apr/2020 14:16:10] \"\u001b[33mGET /main.css HTTP/1.1\u001b[0m\" 404 -\n"
     ]
    },
    {
     "data": {
      "image/png": "[encoded data removed]",
      "text/plain": [
       "<Figure size 432x288 with 1 Axes>"
      ]
     },
     "metadata": {
      "needs_background": "light"
     },
     "output_type": "display_data"
    }
   ],
   "source": [
    "app = Flask(__name__)\n",
    "\n",
    "@app.route('/')\n",
    "def search():\n",
    "    updated_catalog = get_updated_catalog()\n",
    "    update_d()\n",
    "    return render_template('main_2.html', catalog = updated_catalog, di = d)\n",
    "\n",
    "@app.route('/buy_page')\n",
    "def buy():    \n",
    "    update_d()\n",
    "    items = [d[key] for key in d.keys()]\n",
    "    return render_template('buy_page.html', items = items)\n",
    "\n",
    "@app.route('/results')\n",
    "def results():\n",
    "    update_d()\n",
    "    quantity = request.args['quantity']\n",
    "    item = request.args['chose']\n",
    "    key = get_key(d, item)\n",
    "    results = buy_stuff(key, int(quantity))\n",
    "    return render_template('merci.html', result = results) \n",
    "\n",
    "@app.route('/update_page_0')\n",
    "def update():\n",
    "    update_d()\n",
    "    items = [d[key] for key in d.keys()]\n",
    "    return render_template('update_page_0.html', items = items)\n",
    "\n",
    "@app.route('/update_page')\n",
    "def update_results():\n",
    "    update_d()\n",
    "    update_func = request.args['update_func']\n",
    "    update_item = request.args['update_chose']\n",
    "    add_num = request.args['add_num']\n",
    "    \n",
    "    if update_item != 'NEW_ITEM':\n",
    "        item = get_key(d, update_item)\n",
    "        item_values = get_item_info(item).keys()\n",
    "    \n",
    "    updated_catalog = get_updated_catalog()\n",
    "    item_types = clean_mas(get_types())\n",
    "   \n",
    "    if update_func == 'delete':\n",
    "        return render_template('update_del.html', update_item = update_item, item_values = item_values)\n",
    "    \n",
    "    if update_func == 'update':\n",
    "        return render_template('update_update.html', update_item = update_item, item_values = item_values)\n",
    "    \n",
    "    if update_func == 'add' and update_item == 'NEW_ITEM':\n",
    "        return render_template('update_add_new.html', item_types = item_types, add_num = int(add_num))\n",
    "    else:\n",
    "        return render_template('update_add.html', item_name = update_item, item_info = updated_catalog[item], add_num = int(add_num))\n",
    "        \n",
    "\n",
    "@app.route('/del_results')\n",
    "def del_results():\n",
    "    update_d()\n",
    "    item_name = request.args['item_name']\n",
    "    #del_results = request.args['select_res']\n",
    "    \n",
    "    item = get_key(d, item_name)\n",
    "    item_values = get_item_info(item).keys()\n",
    "    del_results = []\n",
    "    for i in item_values:\n",
    "        try:\n",
    "            del_value = request.args[i]\n",
    "            del_results.append(del_value)\n",
    "        except:\n",
    "            continue\n",
    "            \n",
    "    item_value = None\n",
    "    try:\n",
    "        item_value = request.args['item']\n",
    "    except:\n",
    "        pass\n",
    "        \n",
    "    if item_value == \"item\":\n",
    "        delete_item(item)\n",
    "        del_results = 'all fields'\n",
    "    else:\n",
    "        for field in del_results:\n",
    "            update_item_info(item, field, func = 'del')\n",
    "        del_results = clean_mas(del_results)\n",
    "        \n",
    "    return render_template('del_result.html', item_name = item_name, del_results = del_results)\n",
    "\n",
    "@app.route('/update_results')\n",
    "def update_result():\n",
    "    update_d()\n",
    "    item_name = request.args['item_name']\n",
    "    \n",
    "    item = get_key(d, item_name)\n",
    "    item_values = get_item_info(item).keys()\n",
    "    \n",
    "    #update_results = []\n",
    "    for i in item_values:\n",
    "        try:\n",
    "            update_value = request.args[i]\n",
    "            #update_results.append(update_value)\n",
    "            update_item_info(item, i, update_value)\n",
    "        except:\n",
    "            continue\n",
    "        \n",
    "    return render_template('update_result.html', item_name = item_name)\n",
    "\n",
    "@app.route('/add_results')\n",
    "def add_result():    \n",
    "    update_d()\n",
    "    item_name = request.args['item_name']\n",
    "    add_num = request.args['add_num']\n",
    "    item = get_key(d, item_name)\n",
    "    \n",
    "    new_data = []\n",
    "    for i in range(int(add_num)):\n",
    "        try:\n",
    "            new_field = request.args[str(i+10)]\n",
    "            new_value = request.args[str(i)]\n",
    "            update_item_info(item, new_field, new_value)\n",
    "            new_data.append(new_field)\n",
    "        except:\n",
    "            continue\n",
    "            \n",
    "    new_data = clean_mas(new_data)\n",
    "    \n",
    "    return render_template('add_result.html', item_name = item_name, new_fields = new_data)\n",
    "\n",
    "@app.route('/add_results_new')\n",
    "def add_result_new():    \n",
    "    update_d()\n",
    "    new_item_name = request.args['item_name']\n",
    "    new_type = request.args['new_type']\n",
    "    add_num = request.args['add_num']\n",
    "    \n",
    "    new_key = get_keys(new_type)\n",
    "    \n",
    "    new_data = {}\n",
    "    for i in range(int(add_num)):\n",
    "        try:\n",
    "            new_field = request.args[str(i+10)]\n",
    "            new_value = request.args[str(i)]\n",
    "            new_data[new_field] = new_value\n",
    "        except:\n",
    "            continue\n",
    "            \n",
    "    if 'quantity' not in new_data.keys():\n",
    "        new_data['quantity'] = 0\n",
    "    if 'npurchased' not in new_data.keys():\n",
    "        new_data['npurchased'] = 0\n",
    "        \n",
    "    new_item = {new_key: new_data}\n",
    "    add_item(new_item)\n",
    "    update_d(custom_name = new_item_name)\n",
    "    \n",
    "    return render_template('add_result_new.html', item_name = new_item_name, type_name = new_type, new_fields = new_data)\n",
    "\n",
    "\n",
    "@app.route('/stats')\n",
    "def stats():    \n",
    "    get_plot()\n",
    "    return render_template('stats.html')\n",
    "\n",
    "if __name__ == '__main__':\n",
    "    app.run()"
   ]
  },
  {
   "cell_type": "markdown",
   "metadata": {},
   "source": [
    "Сортировка + группировка"
   ]
  },
  {
   "cell_type": "code",
   "execution_count": 52,
   "metadata": {},
   "outputs": [
    {
     "data": {
      "text/plain": [
       "True"
      ]
     },
     "execution_count": 52,
     "metadata": {},
     "output_type": "execute_result"
    }
   ],
   "source": [
    "r2 = redis.Redis(db=2)\n",
    "r2.flushdb()"
   ]
  },
  {
   "cell_type": "code",
   "execution_count": 53,
   "metadata": {},
   "outputs": [],
   "source": [
    "with r2.pipeline() as pipe:\n",
    "    for _id, i in catalog.items():\n",
    "        pipe.hmset(_id, i)\n",
    "    pipe.execute()"
   ]
  },
  {
   "cell_type": "code",
   "execution_count": 54,
   "metadata": {},
   "outputs": [],
   "source": [
    "def get_clean_id(key):\n",
    "    res = str(key).split(':')[1]\n",
    "    return res[:-1]"
   ]
  },
  {
   "cell_type": "code",
   "execution_count": 55,
   "metadata": {},
   "outputs": [],
   "source": [
    "ids = []\n",
    "for i in r2.keys():\n",
    "    ids.append(int(get_clean_id(i)))"
   ]
  },
  {
   "cell_type": "code",
   "execution_count": 56,
   "metadata": {},
   "outputs": [
    {
     "data": {
      "text/plain": [
       "[1296359138,\n",
       " 1327727452,\n",
       " 56854717,\n",
       " 1236154736,\n",
       " 3700028109,\n",
       " 2080643381,\n",
       " 1326692461,\n",
       " 1186298464,\n",
       " 3189613171]"
      ]
     },
     "execution_count": 56,
     "metadata": {},
     "output_type": "execute_result"
    }
   ],
   "source": [
    "ids"
   ]
  },
  {
   "cell_type": "code",
   "execution_count": 57,
   "metadata": {},
   "outputs": [],
   "source": [
    "for i in ids:\n",
    "    r2.sadd(\"item_ids\", i)"
   ]
  },
  {
   "cell_type": "code",
   "execution_count": 58,
   "metadata": {},
   "outputs": [
    {
     "data": {
      "text/plain": [
       "'t-shirt, jeans, hat, \"item_ids\"'"
      ]
     },
     "execution_count": 58,
     "metadata": {},
     "output_type": "execute_result"
    }
   ],
   "source": [
    "item_types = clean_mas(get_types()).lower()\n",
    "item_types"
   ]
  },
  {
   "cell_type": "code",
   "execution_count": 59,
   "metadata": {},
   "outputs": [],
   "source": [
    "item_types = item_types.split(', ')"
   ]
  },
  {
   "cell_type": "code",
   "execution_count": 60,
   "metadata": {},
   "outputs": [],
   "source": [
    "def sort_group(item_type, field):\n",
    "    type_sorted = []\n",
    "    sort1 = r2.sort(\"item_ids\", by=f\"{item_type}:*->{field}\")\n",
    "    sort2 = r2.sort(\"item_ids\", by=f\"{item_type}:*->{field}\", get = f\"{item_type}:*->{field}\")\n",
    "    return sort1, sort2"
   ]
  },
  {
   "cell_type": "code",
   "execution_count": 61,
   "metadata": {},
   "outputs": [],
   "source": [
    "res1, res2 = sort_group('t-shirt', 'price')"
   ]
  },
  {
   "cell_type": "code",
   "execution_count": 62,
   "metadata": {},
   "outputs": [
    {
     "data": {
      "text/plain": [
       "[b'1236154736',\n",
       " b'1296359138',\n",
       " b'1326692461',\n",
       " b'3189613171',\n",
       " b'3700028109',\n",
       " b'56854717',\n",
       " b'1327727452',\n",
       " b'2080643381',\n",
       " b'1186298464']"
      ]
     },
     "execution_count": 62,
     "metadata": {},
     "output_type": "execute_result"
    }
   ],
   "source": [
    "res1"
   ]
  },
  {
   "cell_type": "code",
   "execution_count": 63,
   "metadata": {},
   "outputs": [
    {
     "data": {
      "text/plain": [
       "[None, None, None, None, None, None, b'19.99', b'29.99', b'39.99']"
      ]
     },
     "execution_count": 63,
     "metadata": {},
     "output_type": "execute_result"
    }
   ],
   "source": [
    "res2"
   ]
  },
  {
   "cell_type": "code",
   "execution_count": 64,
   "metadata": {},
   "outputs": [],
   "source": [
    "def get_clean_id_2(key):\n",
    "    if key != b'item_ids':\n",
    "        res = str(key).split(':')[0][:2] + str(key).split(':')[1]\n",
    "        return res"
   ]
  },
  {
   "cell_type": "code",
   "execution_count": 65,
   "metadata": {},
   "outputs": [],
   "source": [
    "def get_gp_sr(res1, res2):\n",
    "    mas_dop = []\n",
    "    for k in range(len(res1)):\n",
    "        if res2[k] != None:\n",
    "            for key in r2.keys():\n",
    "                if res1[k] != b'item_ids':\n",
    "                    if get_clean_id_2(key) == str(res1[k]):\n",
    "                        dop = {key: r2.hgetall(key)}\n",
    "                        mas_dop.append(dop)\n",
    "    return mas_dop"
   ]
  },
  {
   "cell_type": "code",
   "execution_count": 66,
   "metadata": {},
   "outputs": [],
   "source": [
    "def get_all_gp_sr(item_type, field):\n",
    "    res1, res2 = sort_group(item_type, field)\n",
    "    results = get_gp_sr(res1, res2)\n",
    "    return results"
   ]
  },
  {
   "cell_type": "code",
   "execution_count": 67,
   "metadata": {},
   "outputs": [
    {
     "data": {
      "text/plain": [
       "[{b't-shirt:1327727452': {b'color': b'black',\n",
       "   b'price': b'19.99',\n",
       "   b'style': b'fitted',\n",
       "   b'quantity': b'2000',\n",
       "   b'npurchased': b'0'}},\n",
       " {b't-shirt:2080643381': {b'color': b'yellow',\n",
       "   b'price': b'29.99',\n",
       "   b'style': b'hipster',\n",
       "   b'quantity': b'450',\n",
       "   b'npurchased': b'0'}},\n",
       " {b't-shirt:1186298464': {b'color': b'green',\n",
       "   b'price': b'39.99',\n",
       "   b'style': b'large',\n",
       "   b'quantity': b'400',\n",
       "   b'npurchased': b'0'}}]"
      ]
     },
     "execution_count": 67,
     "metadata": {},
     "output_type": "execute_result"
    }
   ],
   "source": [
    "get_all_gp_sr('t-shirt', 'price')"
   ]
  },
  {
   "cell_type": "code",
   "execution_count": 68,
   "metadata": {},
   "outputs": [],
   "source": [
    "def all_types_gp_sr(types, field):\n",
    "    all_results = []\n",
    "    for i in types:\n",
    "        if i != b'item_ids':\n",
    "            type_res = get_all_gp_sr(i, field)\n",
    "        for j in type_res:\n",
    "            all_results.append(j)\n",
    "    return all_results        "
   ]
  },
  {
   "cell_type": "code",
   "execution_count": 69,
   "metadata": {},
   "outputs": [],
   "source": [
    "def nice_output(mas, field):\n",
    "    for i in mas:\n",
    "        for key in i.keys():\n",
    "            for s_key in i[key].keys():\n",
    "                if s_key == field:\n",
    "                    print(key, i[key][s_key])"
   ]
  },
  {
   "cell_type": "code",
   "execution_count": 70,
   "metadata": {},
   "outputs": [
    {
     "name": "stdout",
     "output_type": "stream",
     "text": [
      "b't-shirt:1327727452' b'19.99'\n",
      "b't-shirt:2080643381' b'29.99'\n",
      "b't-shirt:1186298464' b'39.99'\n",
      "b'jeans:3700028109' b'59.99'\n",
      "b'jeans:1296359138' b'69.99'\n",
      "b'jeans:3189613171' b'89.99'\n",
      "b'hat:1326692461' b'49.99'\n",
      "b'hat:1236154736' b'59.99'\n",
      "b'hat:56854717' b'99.99'\n"
     ]
    }
   ],
   "source": [
    "nice_output(all_types_gp_sr(item_types, 'price'), b'price')"
   ]
  },
  {
   "cell_type": "code",
   "execution_count": 72,
   "metadata": {},
   "outputs": [
    {
     "name": "stdout",
     "output_type": "stream",
     "text": [
      "b't-shirt:1186298464' b'400'\n",
      "b't-shirt:2080643381' b'450'\n",
      "b't-shirt:1327727452' b'2000'\n",
      "b'jeans:1296359138' b'400'\n",
      "b'jeans:3189613171' b'600'\n",
      "b'jeans:3700028109' b'3000'\n",
      "b'hat:56854717' b'200'\n",
      "b'hat:1236154736' b'500'\n",
      "b'hat:1326692461' b'1000'\n"
     ]
    }
   ],
   "source": [
    "nice_output(all_types_gp_sr(item_types, 'quantity'), b'quantity')"
   ]
  },
  {
   "cell_type": "code",
   "execution_count": null,
   "metadata": {},
   "outputs": [],
   "source": []
  }
 ],
 "metadata": {
  "kernelspec": {
   "display_name": "Python 3",
   "language": "python",
   "name": "python3"
  },
  "language_info": {
   "codemirror_mode": {
    "name": "ipython",
    "version": 3
   },
   "file_extension": ".py",
   "mimetype": "text/x-python",
   "name": "python",
   "nbconvert_exporter": "python",
   "pygments_lexer": "ipython3",
   "version": "3.7.3"
  }
 },
 "nbformat": 4,
 "nbformat_minor": 4
}
